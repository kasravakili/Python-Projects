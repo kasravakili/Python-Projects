{
 "cells": [
  {
   "cell_type": "code",
   "execution_count": 2,
   "metadata": {},
   "outputs": [
    {
     "name": "stdout",
     "output_type": "stream",
     "text": [
      "Welcome to the Chess Bot!\n",
      "r n b q k b n r\n",
      "p p p p p p p p\n",
      ". . . . . . . .\n",
      ". . . . . . . .\n",
      ". . . . . . . .\n",
      ". . . . . . . .\n",
      "P P P P P P P P\n",
      "R N B Q K B N R\n",
      "Invalid move format. Try again.\n",
      "Invalid move format. Try again.\n",
      "Illegal move. Try again.\n",
      "Invalid move format. Try again.\n",
      "Illegal move. Try again.\n",
      "r n b q k b n r\n",
      "p p p p p p p p\n",
      ". . . . . . . .\n",
      ". . . . . . . .\n",
      ". . . . P . . .\n",
      ". . . . . . . .\n",
      "P P P P . P P P\n",
      "R N B Q K B N R\n",
      "Bot move: b8a6\n",
      "r . b q k b n r\n",
      "p p p p p p p p\n",
      "n . . . . . . .\n",
      ". . . . . . . .\n",
      ". . . . P . . .\n",
      ". . . . . . . .\n",
      "P P P P . P P P\n",
      "R N B Q K B N R\n"
     ]
    }
   ],
   "source": [
    "import chess\n",
    "import chess.engine\n",
    "import random\n",
    "\n",
    "# Initialize the chess board\n",
    "board = chess.Board()\n",
    "\n",
    "# Function to get the bot's move (random move for simplicity)\n",
    "def get_bot_move(board):\n",
    "    legal_moves = list(board.legal_moves)\n",
    "    return random.choice(legal_moves)\n",
    "\n",
    "# Function to display the board\n",
    "def display_board(board):\n",
    "    print(board)\n",
    "\n",
    "# Main function to play the game\n",
    "def play_chess():\n",
    "    print(\"Welcome to the Chess Bot!\")\n",
    "    display_board(board)\n",
    "    \n",
    "    while not board.is_game_over():\n",
    "        # User's turn\n",
    "        user_move = input(\"Enter your move (in UCI format, e.g., e2e4): \")\n",
    "        \n",
    "        try:\n",
    "            move = chess.Move.from_uci(user_move)\n",
    "            if move in board.legal_moves:\n",
    "                board.push(move)\n",
    "            else:\n",
    "                print(\"Illegal move. Try again.\")\n",
    "                continue\n",
    "        except:\n",
    "            print(\"Invalid move format. Try again.\")\n",
    "            continue\n",
    "        \n",
    "        display_board(board)\n",
    "        \n",
    "        if board.is_game_over():\n",
    "            break\n",
    "        \n",
    "        # Bot's turn\n",
    "        bot_move = get_bot_move(board)\n",
    "        board.push(bot_move)\n",
    "        print(f\"Bot move: {bot_move}\")\n",
    "        display_board(board)\n",
    "    \n",
    "    print(\"Game over!\")\n",
    "    print(\"Result: \", board.result())\n",
    "\n",
    "# Run the chess game\n",
    "if __name__ == \"__main__\":\n",
    "    play_chess()\n"
   ]
  },
  {
   "cell_type": "code",
   "execution_count": null,
   "metadata": {},
   "outputs": [],
   "source": []
  }
 ],
 "metadata": {
  "kernelspec": {
   "display_name": "base",
   "language": "python",
   "name": "python3"
  },
  "language_info": {
   "codemirror_mode": {
    "name": "ipython",
    "version": 3
   },
   "file_extension": ".py",
   "mimetype": "text/x-python",
   "name": "python",
   "nbconvert_exporter": "python",
   "pygments_lexer": "ipython3",
   "version": "3.11.4"
  },
  "orig_nbformat": 4,
  "vscode": {
   "interpreter": {
    "hash": "26939f33725a9623bea3d32b46c54155c50ed199ded969ab16c8418fe6c7bb9c"
   }
  }
 },
 "nbformat": 4,
 "nbformat_minor": 2
}
